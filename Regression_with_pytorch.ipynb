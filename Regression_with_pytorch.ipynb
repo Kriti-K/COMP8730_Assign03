{
  "nbformat": 4,
  "nbformat_minor": 0,
  "metadata": {
    "colab": {
      "provenance": [],
      "authorship_tag": "ABX9TyPqCkfQ6IOdoq8GsnaS2PDB",
      "include_colab_link": true
    },
    "kernelspec": {
      "name": "python3",
      "display_name": "Python 3"
    },
    "language_info": {
      "name": "python"
    }
  },
  "cells": [
    {
      "cell_type": "markdown",
      "metadata": {
        "id": "view-in-github",
        "colab_type": "text"
      },
      "source": [
        "<a href=\"https://colab.research.google.com/github/Kriti-K/COMP8730_Assign03/blob/master/Regression_with_pytorch.ipynb\" target=\"_parent\"><img src=\"https://colab.research.google.com/assets/colab-badge.svg\" alt=\"Open In Colab\"/></a>"
      ]
    },
    {
      "cell_type": "code",
      "source": [
        "import torch \n",
        "import torch.nn as nn \n",
        "import numpy as np\n",
        "import matplotlib.pyplot as plt"
      ],
      "metadata": {
        "id": "om2k1-uQ62s6"
      },
      "execution_count": null,
      "outputs": []
    },
    {
      "cell_type": "code",
      "source": [
        "#Creating artificial dataset\n",
        "N = 20 \n",
        "X = np.random.random(N)*10 - 5 # generating 20 random values for X axis in the range -5 , +5 \n",
        "print(X)"
      ],
      "metadata": {
        "colab": {
          "base_uri": "https://localhost:8080/"
        },
        "id": "6F9b9ESi7cjm",
        "outputId": "6237eaab-54d7-4a28-e92a-3d351f447e56"
      },
      "execution_count": null,
      "outputs": [
        {
          "output_type": "stream",
          "name": "stdout",
          "text": [
            "[ 3.15183228 -1.69813103 -4.99337891  4.72849224  3.2899301  -3.18821141\n",
            " -1.65354951 -0.3025353  -2.91270152  2.0276137   0.5733892  -3.93514263\n",
            "  1.37119208 -2.28760441  3.25437544  2.96814181  0.07449608  4.73871232\n",
            "  3.83506541  1.29241255]\n"
          ]
        }
      ]
    },
    {
      "cell_type": "code",
      "source": [
        "# need to give equation of a line + random gaussian noise \n",
        "\n",
        "Y = 0.5*X -1 + np.random.randn(N) # task of our model is to learn these values"
      ],
      "metadata": {
        "id": "MnkuYPck76xA"
      },
      "execution_count": null,
      "outputs": []
    },
    {
      "cell_type": "code",
      "source": [
        "plt.scatter(X,Y)"
      ],
      "metadata": {
        "colab": {
          "base_uri": "https://localhost:8080/",
          "height": 283
        },
        "id": "NixhvVBB8j0l",
        "outputId": "c6b1a284-d9a4-4eed-c898-df1ab20d6923"
      },
      "execution_count": null,
      "outputs": [
        {
          "output_type": "execute_result",
          "data": {
            "text/plain": [
              "<matplotlib.collections.PathCollection at 0x7f1215ee9710>"
            ]
          },
          "metadata": {},
          "execution_count": 175
        },
        {
          "output_type": "display_data",
          "data": {
            "text/plain": [
              "<Figure size 432x288 with 1 Axes>"
            ],
            "image/png": "[encoded data removed]"
          },
          "metadata": {
            "needs_background": "light"
          }
        }
      ]
    },
    {
      "cell_type": "code",
      "source": [
        "#creating the model \n",
        "model = nn.Linear(1,1)"
      ],
      "metadata": {
        "id": "HCABL9KR9XuT"
      },
      "execution_count": null,
      "outputs": []
    },
    {
      "cell_type": "code",
      "source": [
        "# loss and optimizer\n",
        "\n",
        "criterion = nn.MSELoss()\n",
        "optimizer = torch.optim.SGD(model.parameters(),lr=0.03, momentum=0.65) #adding nesterov was increasing the loss exponentially #adding momentum was also increasing loss slightly and adding bumps in the curve?"
      ],
      "metadata": {
        "id": "CLzwTaJe95FC"
      },
      "execution_count": null,
      "outputs": []
    },
    {
      "cell_type": "code",
      "source": [
        "#reshaping the data so we can convert it into tensors easily later \n",
        "X = X.reshape(N,1)\n",
        "Y = Y.reshape(N,1)"
      ],
      "metadata": {
        "id": "bd41Wwce-67U"
      },
      "execution_count": null,
      "outputs": []
    },
    {
      "cell_type": "code",
      "source": [
        "#since pytorch uses float32 type but numpy creates float64 data by default so we will have to convert type\n",
        "\n",
        "inputs = torch.from_numpy(X.astype(np.float32))\n",
        "targets = torch.from_numpy(Y.astype(np.float32))\n",
        "\n",
        "#earlier type was np.ndArray, now it is torch.Tensor"
      ],
      "metadata": {
        "id": "O8uh1ef7_8Am"
      },
      "execution_count": null,
      "outputs": []
    },
    {
      "cell_type": "code",
      "source": [
        "\n",
        "n_epochs = 60 #train the model, we can see it got static around 28 #no of iterations of the loop, we can manually run and see model fit for different values to reach correct value\n",
        "losses = [] #list, each iteration we store value, help us see if training process converged, we will plot it\n",
        "\n",
        "for ep in range(n_epochs):\n",
        "  optimizer.zero_grad() #the parameter gradients that keep getting stored in backprop, clear those\n",
        "\n",
        "  #forward pass \n",
        "  outputs = model(inputs)\n",
        "  loss = criterion(outputs, targets) \n",
        "\n",
        "  # save losses to plot them later, loss will also be tensor type so need to convert it back to numpy\n",
        "  losses.append(loss.item())\n",
        "\n",
        "   #backward and optimize \n",
        "  loss.backward()\n",
        "  optimizer.step() # takes one step of gradient descent \n",
        "\n",
        "  print(f'Epoch {ep+1}/{n_epochs} , Loss: {loss.item():.4f}')\n",
        "\n"
      ],
      "metadata": {
        "colab": {
          "base_uri": "https://localhost:8080/"
        },
        "id": "UNpEHQX7DoBR",
        "outputId": "5c4066b1-b942-426e-cc20-f59efdeda569"
      },
      "execution_count": null,
      "outputs": [
        {
          "output_type": "stream",
          "name": "stdout",
          "text": [
            "Epoch 1/60 , Loss: 2.7480\n",
            "Epoch 2/60 , Loss: 1.6596\n",
            "Epoch 3/60 , Loss: 1.2517\n",
            "Epoch 4/60 , Loss: 1.3146\n",
            "Epoch 5/60 , Loss: 1.1278\n",
            "Epoch 6/60 , Loss: 0.8275\n",
            "Epoch 7/60 , Loss: 0.7077\n",
            "Epoch 8/60 , Loss: 0.6854\n",
            "Epoch 9/60 , Loss: 0.6296\n",
            "Epoch 10/60 , Loss: 0.5710\n",
            "Epoch 11/60 , Loss: 0.5529\n",
            "Epoch 12/60 , Loss: 0.5514\n",
            "Epoch 13/60 , Loss: 0.5434\n",
            "Epoch 14/60 , Loss: 0.5358\n",
            "Epoch 15/60 , Loss: 0.5351\n",
            "Epoch 16/60 , Loss: 0.5362\n",
            "Epoch 17/60 , Loss: 0.5354\n",
            "Epoch 18/60 , Loss: 0.5345\n",
            "Epoch 19/60 , Loss: 0.5347\n",
            "Epoch 20/60 , Loss: 0.5349\n",
            "Epoch 21/60 , Loss: 0.5347\n",
            "Epoch 22/60 , Loss: 0.5345\n",
            "Epoch 23/60 , Loss: 0.5345\n",
            "Epoch 24/60 , Loss: 0.5345\n",
            "Epoch 25/60 , Loss: 0.5344\n",
            "Epoch 26/60 , Loss: 0.5344\n",
            "Epoch 27/60 , Loss: 0.5344\n",
            "Epoch 28/60 , Loss: 0.5344\n",
            "Epoch 29/60 , Loss: 0.5343\n",
            "Epoch 30/60 , Loss: 0.5343\n",
            "Epoch 31/60 , Loss: 0.5343\n",
            "Epoch 32/60 , Loss: 0.5343\n",
            "Epoch 33/60 , Loss: 0.5343\n",
            "Epoch 34/60 , Loss: 0.5343\n",
            "Epoch 35/60 , Loss: 0.5343\n",
            "Epoch 36/60 , Loss: 0.5343\n",
            "Epoch 37/60 , Loss: 0.5343\n",
            "Epoch 38/60 , Loss: 0.5343\n",
            "Epoch 39/60 , Loss: 0.5343\n",
            "Epoch 40/60 , Loss: 0.5343\n",
            "Epoch 41/60 , Loss: 0.5343\n",
            "Epoch 42/60 , Loss: 0.5343\n",
            "Epoch 43/60 , Loss: 0.5343\n",
            "Epoch 44/60 , Loss: 0.5343\n",
            "Epoch 45/60 , Loss: 0.5343\n",
            "Epoch 46/60 , Loss: 0.5343\n",
            "Epoch 47/60 , Loss: 0.5343\n",
            "Epoch 48/60 , Loss: 0.5343\n",
            "Epoch 49/60 , Loss: 0.5343\n",
            "Epoch 50/60 , Loss: 0.5343\n",
            "Epoch 51/60 , Loss: 0.5343\n",
            "Epoch 52/60 , Loss: 0.5343\n",
            "Epoch 53/60 , Loss: 0.5343\n",
            "Epoch 54/60 , Loss: 0.5343\n",
            "Epoch 55/60 , Loss: 0.5343\n",
            "Epoch 56/60 , Loss: 0.5343\n",
            "Epoch 57/60 , Loss: 0.5343\n",
            "Epoch 58/60 , Loss: 0.5343\n",
            "Epoch 59/60 , Loss: 0.5343\n",
            "Epoch 60/60 , Loss: 0.5343\n"
          ]
        }
      ]
    },
    {
      "cell_type": "code",
      "source": [
        "plt.plot(losses)"
      ],
      "metadata": {
        "colab": {
          "base_uri": "https://localhost:8080/",
          "height": 283
        },
        "id": "O_NiXLInIZFD",
        "outputId": "d3001bc4-72d7-4a81-e53a-283ad5fa0ac7"
      },
      "execution_count": null,
      "outputs": [
        {
          "output_type": "execute_result",
          "data": {
            "text/plain": [
              "[<matplotlib.lines.Line2D at 0x7f1216118310>]"
            ]
          },
          "metadata": {},
          "execution_count": 181
        },
        {
          "output_type": "display_data",
          "data": {
            "text/plain": [
              "<Figure size 432x288 with 1 Axes>"
            ],
            "image/png": "[encoded data removed]"
          },
          "metadata": {
            "needs_background": "light"
          }
        }
      ]
    },
    {
      "cell_type": "code",
      "source": [
        "#plot the graph \n",
        "predicted = model(inputs).detach().numpy()\n",
        "plt.scatter(X,Y, label='Original data')\n",
        "plt.plot(X, predicted, label ='fitted line')\n",
        "plt.legend()\n",
        "plt.show()"
      ],
      "metadata": {
        "colab": {
          "base_uri": "https://localhost:8080/",
          "height": 265
        },
        "id": "uYFaX7POJo_j",
        "outputId": "3a6921ad-eaab-4157-e438-89a6d313ed32"
      },
      "execution_count": null,
      "outputs": [
        {
          "output_type": "display_data",
          "data": {
            "text/plain": [
              "<Figure size 432x288 with 1 Axes>"
            ],
            "image/png": "[encoded data removed]"
          },
          "metadata": {
            "needs_background": "light"
          }
        }
      ]
    },
    {
      "cell_type": "code",
      "source": [
        "# we want to inspect the parameters of our model, to see if it is close to learning the parameters we wanted it to learn\n",
        "w = model.weight.data.numpy()\n",
        "b = model.bias.data.numpy()\n",
        "\n",
        "print(w,b)"
      ],
      "metadata": {
        "colab": {
          "base_uri": "https://localhost:8080/"
        },
        "id": "-nQ5G0UoKm8M",
        "outputId": "5bf3d1f7-04cf-4bb2-911b-09301c44e783"
      },
      "execution_count": null,
      "outputs": [
        {
          "output_type": "stream",
          "name": "stdout",
          "text": [
            "[[0.3849579]] [-0.47442922]\n"
          ]
        }
      ]
    }
  ]
}