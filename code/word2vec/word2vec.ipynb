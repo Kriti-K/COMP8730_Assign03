{
 "cells": [
  {
   "cell_type": "code",
   "execution_count": 2,
   "metadata": {},
   "outputs": [],
   "source": [
    "from gensim.models import Word2Vec\n",
    "from nltk.corpus import brown, reuters\n",
    "from preprocesstext import preProcessText"
   ]
  },
  {
   "cell_type": "code",
   "execution_count": 3,
   "metadata": {},
   "outputs": [],
   "source": [
    "reutSents = reuters.sents()\n",
    "brSents = brown.sents()"
   ]
  },
  {
   "cell_type": "code",
   "execution_count": 4,
   "metadata": {},
   "outputs": [],
   "source": [
    "clean_reut = []\n",
    "clean_brown = []\n",
    "for sent in reutSents:\n",
    "    sent = ' '.join(sent)\n",
    "    sent = preProcessText(sent)\n",
    "    clean_reut.append(sent)\n",
    "for sent in brSents:\n",
    "    sent = ' '.join(sent)\n",
    "    sent = preProcessText(sent)\n",
    "    clean_brown.append(sent)\n",
    "\n",
    "del reutSents, brSents"
   ]
  },
  {
   "cell_type": "code",
   "execution_count": 5,
   "metadata": {},
   "outputs": [],
   "source": [
    "for i, sent in enumerate(clean_brown):\n",
    "    clean_brown[i] = sent.split()\n",
    "\n",
    "for i, sent in enumerate(clean_reut):\n",
    "    clean_reut[i] = sent.split()\n",
    "    "
   ]
  },
  {
   "cell_type": "code",
   "execution_count": 6,
   "metadata": {},
   "outputs": [],
   "source": [
    "windows = [1, 2, 5, 10]\n",
    "sizes = [10, 50, 100, 300]\n",
    "\n",
    "for w in windows:\n",
    "    for s in sizes:\n",
    "        w2v_model = Word2Vec(window=w, vector_size=s, workers=5)\n",
    "        w2v_model.build_vocab(clean_brown)\n",
    "        w2v_model.train(clean_brown, total_examples=w2v_model.corpus_count, epochs=1000)\n",
    "        w2v_model.save('brown-w2v-w{}-s{}'.format(w,s))"
   ]
  },
  {
   "cell_type": "code",
   "execution_count": null,
   "metadata": {},
   "outputs": [],
   "source": []
  }
 ],
 "metadata": {
  "interpreter": {
   "hash": "def1e68a8a9ce1204b4bad2666182f457d9c277295bc7a27aee608110ac20ae1"
  },
  "kernelspec": {
   "display_name": "Python 3.9.12 64-bit (windows store)",
   "language": "python",
   "name": "python3"
  },
  "language_info": {
   "codemirror_mode": {
    "name": "ipython",
    "version": 3
   },
   "file_extension": ".py",
   "mimetype": "text/x-python",
   "name": "python",
   "nbconvert_exporter": "python",
   "pygments_lexer": "ipython3",
   "version": "3.9.12"
  },
  "orig_nbformat": 4
 },
 "nbformat": 4,
 "nbformat_minor": 2
}
