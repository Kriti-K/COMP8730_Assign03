{
 "cells": [
  {
   "cell_type": "code",
   "execution_count": 1,
   "metadata": {},
   "outputs": [],
   "source": [
    "import json \n",
    "import pandas as pd\n",
    "import pickle"
   ]
  },
  {
   "cell_type": "code",
   "execution_count": 2,
   "metadata": {},
   "outputs": [],
   "source": [
    "with open(r'C:\\Users\\Mrulay\\OneDrive - University of Windsor\\uWindsor\\COMP 8730 - NLP\\Assignments\\3. Lexical vs Vector Semantics\\models\\TFIDF\\brown_tfidf.json') as f1:\n",
    "    brown = json.load(f1)\n",
    "with open(r'C:\\Users\\Mrulay\\OneDrive - University of Windsor\\uWindsor\\COMP 8730 - NLP\\Assignments\\3. Lexical vs Vector Semantics\\models\\TFIDF\\reuters_tfidf.json') as f2:\n",
    "    reuters = json.load(f2)\n",
    "with open(r'C:\\Users\\Mrulay\\OneDrive - University of Windsor\\uWindsor\\COMP 8730 - NLP\\Assignments\\3. Lexical vs Vector Semantics\\data\\simSet.pkl', 'rb') as f3:\n",
    "    SimLexWords = pickle.load(f3)\n",
    "\n"
   ]
  },
  {
   "cell_type": "code",
   "execution_count": 3,
   "metadata": {},
   "outputs": [],
   "source": [
    "words = list(brown.keys())\n",
    "values = list(brown.values())"
   ]
  },
  {
   "cell_type": "code",
   "execution_count": 4,
   "metadata": {},
   "outputs": [],
   "source": [
    "resDict = {}\n",
    "for w in SimLexWords:\n",
    "    df = pd.DataFrame({'words':words, 'values':values})\n",
    "    if w in words:\n",
    "        id = words.index(w)\n",
    "        df['sim'] = df['values'].apply(lambda x: abs(x-values[id]))\n",
    "        df.sort_values('sim')\n",
    "        resDict[w] = df['words'][:10].to_list()\n",
    "    else:\n",
    "        resDict[w] = []\n"
   ]
  },
  {
   "cell_type": "code",
   "execution_count": 5,
   "metadata": {},
   "outputs": [],
   "source": [
    "with open(r'C:\\Users\\Mrulay\\OneDrive - University of Windsor\\uWindsor\\COMP 8730 - NLP\\Assignments\\3. Lexical vs Vector Semantics\\data\\similarities\\tfidf\\brown_tfidf.json', 'w') as f:\n",
    "    json.dump(resDict, f, indent=4)"
   ]
  },
  {
   "cell_type": "code",
   "execution_count": null,
   "metadata": {},
   "outputs": [],
   "source": []
  }
 ],
 "metadata": {
  "interpreter": {
   "hash": "def1e68a8a9ce1204b4bad2666182f457d9c277295bc7a27aee608110ac20ae1"
  },
  "kernelspec": {
   "display_name": "Python 3.9.12 64-bit (windows store)",
   "language": "python",
   "name": "python3"
  },
  "language_info": {
   "codemirror_mode": {
    "name": "ipython",
    "version": 3
   },
   "file_extension": ".py",
   "mimetype": "text/x-python",
   "name": "python",
   "nbconvert_exporter": "python",
   "pygments_lexer": "ipython3",
   "version": "3.9.12"
  },
  "orig_nbformat": 4
 },
 "nbformat": 4,
 "nbformat_minor": 2
}
