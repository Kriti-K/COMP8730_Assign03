{
 "cells": [
  {
   "cell_type": "code",
   "execution_count": null,
   "metadata": {},
   "outputs": [],
   "source": [
    "import pytrec_eval\n",
    "import json\n",
    "import os\n",
    "import csv\n"
   ]
  },
  {
   "cell_type": "markdown",
   "metadata": {},
   "source": [
    "# Loading the test data "
   ]
  },
  {
   "cell_type": "code",
   "execution_count": null,
   "metadata": {},
   "outputs": [],
   "source": [
    "model_list = []\n",
    "for (dirpath, dirnames, filenames) in os.walk(r'C:\\Users\\Mrulay\\OneDrive - University of Windsor\\uWindsor\\COMP 8730 - NLP\\Assignments\\3. Lexical vs Vector Semantics\\data\\similarities\\tfidf'):\n",
    "    model_list.extend(filenames)\n",
    "    break"
   ]
  },
  {
   "cell_type": "markdown",
   "metadata": {},
   "source": [
    "# Loading the Reference data"
   ]
  },
  {
   "cell_type": "code",
   "execution_count": null,
   "metadata": {},
   "outputs": [],
   "source": [
    "with open(r'C:\\Users\\Mrulay\\OneDrive - University of Windsor\\uWindsor\\COMP 8730 - NLP\\Assignments\\3. Lexical vs Vector Semantics\\data\\simLex_similarities.json', 'r') as f:\n",
    "    gold_set = json.load(f)"
   ]
  },
  {
   "cell_type": "markdown",
   "metadata": {},
   "source": [
    "# Using pytrec_eval to print the nDCG scores"
   ]
  },
  {
   "cell_type": "code",
   "execution_count": null,
   "metadata": {},
   "outputs": [],
   "source": [
    "for model in model_list:\n",
    "    with open(r'C:\\Users\\Mrulay\\OneDrive - University of Windsor\\uWindsor\\COMP 8730 - NLP\\Assignments\\3. Lexical vs Vector Semantics\\data\\similarities\\tfidf\\{}'.format(model), 'r') as f:\n",
    "        temp = json.load(f)\n",
    "    evaluator = pytrec_eval.RelevanceEvaluator(\n",
    "        gold_set, {'ndcg'})\n",
    "\n",
    "    x = evaluator.evaluate(temp)\n",
    "    what= []\n",
    "    for i in x.items():\n",
    "        what.append((i[1]['ndcg']))\n",
    "\n",
    "    print(model, \",\", sum(what)/len(what))"
   ]
  },
  {
   "cell_type": "code",
   "execution_count": null,
   "metadata": {},
   "outputs": [],
   "source": [
    "\n",
    "\n"
   ]
  }
 ],
 "metadata": {
  "interpreter": {
   "hash": "def1e68a8a9ce1204b4bad2666182f457d9c277295bc7a27aee608110ac20ae1"
  },
  "kernelspec": {
   "display_name": "Python 3.9.12 64-bit (windows store)",
   "language": "python",
   "name": "python3"
  },
  "language_info": {
   "codemirror_mode": {
    "name": "ipython",
    "version": 3
   },
   "file_extension": ".py",
   "mimetype": "text/x-python",
   "name": "python",
   "nbconvert_exporter": "python",
   "pygments_lexer": "ipython3",
   "version": "3.9.12"
  },
  "orig_nbformat": 4
 },
 "nbformat": 4,
 "nbformat_minor": 2
}
